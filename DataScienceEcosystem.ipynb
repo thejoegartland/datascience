{
 "cells": [
  {
   "cell_type": "markdown",
   "id": "ddde3e69-3b69-4a50-89e2-2375192de168",
   "metadata": {},
   "source": [
    "# Data Science Tools and Ecosystem"
   ]
  },
  {
   "cell_type": "markdown",
   "id": "094e0000-8326-4803-b15d-bc5504dc154b",
   "metadata": {},
   "source": [
    "In THIS NOTEBOOK! You will learn about STUFF SUCH AS data science tools.......... AND ecosystems. "
   ]
  },
  {
   "cell_type": "markdown",
   "id": "a8e85058-2e02-42b8-9dc8-91f0e770672e",
   "metadata": {},
   "source": [
    "**Objectives:**\n",
    "\n",
    "- List popular languages\n",
    "- List commonly used libraries\n",
    "- List data science tools\n",
    "- Show basic mathematical expressions "
   ]
  },
  {
   "cell_type": "markdown",
   "id": "14d0fc73-9a97-44ca-96cc-7494f9ae1861",
   "metadata": {},
   "source": [
    "Some of the popular languages that Data Scientists use are:\n",
    "1. Python\n",
    "2. R\n",
    "3. SQL"
   ]
  },
  {
   "cell_type": "markdown",
   "id": "9f8b1873-dbd3-436a-b000-ff28ce700039",
   "metadata": {},
   "source": [
    "Some of the commonly used libraries used by Data Scientists include:\n",
    "\n",
    "1. Pandas\n",
    "2. Scikit-learn\n",
    "3. NumPy\n",
    "4. ggplot\n",
    "5. dplyr\n"
   ]
  },
  {
   "cell_type": "markdown",
   "id": "f91f1979-15b6-4be9-94f4-e0d6c2841cc0",
   "metadata": {
    "jp-MarkdownHeadingCollapsed": true
   },
   "source": [
    "| Data Science Tools |\n",
    "| :-----: |\n",
    "| Apache Hadoop |\n",
    "| Apache Spark |\n",
    "| RStudio |\n"
   ]
  },
  {
   "cell_type": "markdown",
   "id": "eaab8eb8-6820-4875-a083-da59055f4a9f",
   "metadata": {},
   "source": [
    "### Below are a few examples of evaluating arithmetic expressions in Python"
   ]
  },
  {
   "cell_type": "code",
   "execution_count": 30,
   "id": "74ef6fea-5c08-451a-9f0e-de0150ea5182",
   "metadata": {},
   "outputs": [
    {
     "data": {
      "text/plain": [
       "17"
      ]
     },
     "execution_count": 30,
     "metadata": {},
     "output_type": "execute_result"
    }
   ],
   "source": [
    "#This a simple arithmetic expression to mutiply then add integers\n",
    "\n",
    "(3*4)+5\n",
    "\n"
   ]
  },
  {
   "cell_type": "code",
   "execution_count": 48,
   "id": "c5e7f975-f472-4bfc-a6ac-848479904fbc",
   "metadata": {},
   "outputs": [
    {
     "name": "stdout",
     "output_type": "stream",
     "text": [
      "The time in question is 3 and 20 minutes\n"
     ]
    }
   ],
   "source": [
    "#This will convert 200 minutes to hours by diving by 60\n",
    "\n",
    "import math\n",
    "x = 200/60\n",
    "hour = math.trunc(x)\n",
    "minutes = (x - math.trunc(x))*60\n",
    "\n",
    "print('The time in question is',hour,'and', math.trunc(minutes),'minutes')\n",
    "#Truncating minutes removes any seconds, milliseconds, etc etc (which render as a decimal)"
   ]
  },
  {
   "cell_type": "markdown",
   "id": "848dd19c-d714-475e-8eb2-b5eabaaca168",
   "metadata": {},
   "source": [
    "## Author\n",
    "Joe "
   ]
  }
 ],
 "metadata": {
  "kernelspec": {
   "display_name": "Python 3 (ipykernel)",
   "language": "python",
   "name": "python3"
  },
  "language_info": {
   "codemirror_mode": {
    "name": "ipython",
    "version": 3
   },
   "file_extension": ".py",
   "mimetype": "text/x-python",
   "name": "python",
   "nbconvert_exporter": "python",
   "pygments_lexer": "ipython3",
   "version": "3.12.4"
  }
 },
 "nbformat": 4,
 "nbformat_minor": 5
}
